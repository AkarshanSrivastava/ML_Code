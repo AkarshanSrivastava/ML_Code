{
 "cells": [
  {
   "cell_type": "code",
   "execution_count": 1,
   "metadata": {},
   "outputs": [
    {
     "data": {
      "application/javascript": [
       "\n",
       "        if (window._pyforest_update_imports_cell) { window._pyforest_update_imports_cell('import pandas as pd'); }\n",
       "    "
      ],
      "text/plain": [
       "<IPython.core.display.Javascript object>"
      ]
     },
     "metadata": {},
     "output_type": "display_data"
    }
   ],
   "source": [
    "cardata=pd.read_csv(\"Cars.csv\")"
   ]
  },
  {
   "cell_type": "code",
   "execution_count": 2,
   "metadata": {},
   "outputs": [],
   "source": [
    "import sidetable"
   ]
  },
  {
   "cell_type": "code",
   "execution_count": 3,
   "metadata": {},
   "outputs": [
    {
     "name": "stdout",
     "output_type": "stream",
     "text": [
      "<class 'pandas.core.frame.DataFrame'>\n",
      "RangeIndex: 81 entries, 0 to 80\n",
      "Data columns (total 5 columns):\n",
      " #   Column  Non-Null Count  Dtype  \n",
      "---  ------  --------------  -----  \n",
      " 0   HP      81 non-null     int64  \n",
      " 1   MPG     81 non-null     float64\n",
      " 2   VOL     81 non-null     int64  \n",
      " 3   SP      81 non-null     float64\n",
      " 4   WT      81 non-null     float64\n",
      "dtypes: float64(3), int64(2)\n",
      "memory usage: 3.3 KB\n"
     ]
    }
   ],
   "source": [
    "cardata.info()"
   ]
  },
  {
   "cell_type": "code",
   "execution_count": 4,
   "metadata": {},
   "outputs": [
    {
     "data": {
      "text/html": [
       "<style  type=\"text/css\" >\n",
       "</style><table id=\"T_37d11e06_bdb8_11ea_962e_80e82cc527f7\" ><thead>    <tr>        <th class=\"blank level0\" ></th>        <th class=\"col_heading level0 col0\" >Missing</th>        <th class=\"col_heading level0 col1\" >Total</th>        <th class=\"col_heading level0 col2\" >Percent</th>    </tr></thead><tbody>\n",
       "                <tr>\n",
       "                        <th id=\"T_37d11e06_bdb8_11ea_962e_80e82cc527f7level0_row0\" class=\"row_heading level0 row0\" >HP</th>\n",
       "                        <td id=\"T_37d11e06_bdb8_11ea_962e_80e82cc527f7row0_col0\" class=\"data row0 col0\" >0</td>\n",
       "                        <td id=\"T_37d11e06_bdb8_11ea_962e_80e82cc527f7row0_col1\" class=\"data row0 col1\" >81</td>\n",
       "                        <td id=\"T_37d11e06_bdb8_11ea_962e_80e82cc527f7row0_col2\" class=\"data row0 col2\" >0.00%</td>\n",
       "            </tr>\n",
       "            <tr>\n",
       "                        <th id=\"T_37d11e06_bdb8_11ea_962e_80e82cc527f7level0_row1\" class=\"row_heading level0 row1\" >MPG</th>\n",
       "                        <td id=\"T_37d11e06_bdb8_11ea_962e_80e82cc527f7row1_col0\" class=\"data row1 col0\" >0</td>\n",
       "                        <td id=\"T_37d11e06_bdb8_11ea_962e_80e82cc527f7row1_col1\" class=\"data row1 col1\" >81</td>\n",
       "                        <td id=\"T_37d11e06_bdb8_11ea_962e_80e82cc527f7row1_col2\" class=\"data row1 col2\" >0.00%</td>\n",
       "            </tr>\n",
       "            <tr>\n",
       "                        <th id=\"T_37d11e06_bdb8_11ea_962e_80e82cc527f7level0_row2\" class=\"row_heading level0 row2\" >VOL</th>\n",
       "                        <td id=\"T_37d11e06_bdb8_11ea_962e_80e82cc527f7row2_col0\" class=\"data row2 col0\" >0</td>\n",
       "                        <td id=\"T_37d11e06_bdb8_11ea_962e_80e82cc527f7row2_col1\" class=\"data row2 col1\" >81</td>\n",
       "                        <td id=\"T_37d11e06_bdb8_11ea_962e_80e82cc527f7row2_col2\" class=\"data row2 col2\" >0.00%</td>\n",
       "            </tr>\n",
       "            <tr>\n",
       "                        <th id=\"T_37d11e06_bdb8_11ea_962e_80e82cc527f7level0_row3\" class=\"row_heading level0 row3\" >SP</th>\n",
       "                        <td id=\"T_37d11e06_bdb8_11ea_962e_80e82cc527f7row3_col0\" class=\"data row3 col0\" >0</td>\n",
       "                        <td id=\"T_37d11e06_bdb8_11ea_962e_80e82cc527f7row3_col1\" class=\"data row3 col1\" >81</td>\n",
       "                        <td id=\"T_37d11e06_bdb8_11ea_962e_80e82cc527f7row3_col2\" class=\"data row3 col2\" >0.00%</td>\n",
       "            </tr>\n",
       "            <tr>\n",
       "                        <th id=\"T_37d11e06_bdb8_11ea_962e_80e82cc527f7level0_row4\" class=\"row_heading level0 row4\" >WT</th>\n",
       "                        <td id=\"T_37d11e06_bdb8_11ea_962e_80e82cc527f7row4_col0\" class=\"data row4 col0\" >0</td>\n",
       "                        <td id=\"T_37d11e06_bdb8_11ea_962e_80e82cc527f7row4_col1\" class=\"data row4 col1\" >81</td>\n",
       "                        <td id=\"T_37d11e06_bdb8_11ea_962e_80e82cc527f7row4_col2\" class=\"data row4 col2\" >0.00%</td>\n",
       "            </tr>\n",
       "    </tbody></table>"
      ],
      "text/plain": [
       "<pandas.io.formats.style.Styler at 0x21ed06a82e8>"
      ]
     },
     "execution_count": 4,
     "metadata": {},
     "output_type": "execute_result"
    }
   ],
   "source": [
    "cardata.stb.missing(style=True)"
   ]
  },
  {
   "cell_type": "code",
   "execution_count": 5,
   "metadata": {},
   "outputs": [
    {
     "name": "stdout",
     "output_type": "stream",
     "text": [
      "          MPG  Count   Percent  Cumulative Count  Cumulative Percent\n",
      "0   29.629936      5  0.061728                 5            0.061728\n",
      "1   38.411003      4  0.049383                 9            0.111111\n",
      "2   50.013401      3  0.037037                12            0.148148\n",
      "3   44.652834      3  0.037037                15            0.185185\n",
      "4   39.354094      3  0.037037                18            0.222222\n",
      "5   35.152727      3  0.037037                21            0.259259\n",
      "6   34.070668      3  0.037037                24            0.296296\n",
      "7   23.103172      3  0.037037                27            0.333333\n",
      "8   46.716554      2  0.024691                29            0.358025\n",
      "9   45.696322      2  0.024691                31            0.382716\n",
      "10  42.789909      2  0.024691                33            0.407407\n",
      "11  39.431235      2  0.024691                35            0.432099\n",
      "12  38.310606      2  0.024691                37            0.456790\n",
      "13  37.958743      2  0.024691                39            0.481481\n",
      "14  36.285456      2  0.024691                41            0.506173\n",
      "15  34.561499      2  0.024691                43            0.530864\n",
      "16  31.014131      2  0.024691                45            0.555556\n",
      "17  23.515917      2  0.024691                47            0.580247\n",
      "18  23.203569      2  0.024691                49            0.604938\n",
      "19  19.086341      2  0.024691                51            0.629630\n",
      "20  53.700681      1  0.012346                52            0.641975\n",
      "21  50.504232      1  0.012346                53            0.654321\n",
      "22  45.734893      1  0.012346                54            0.666667\n",
      "23  43.469434      1  0.012346                55            0.679012\n",
      "24  42.828479      1  0.012346                56            0.691358\n",
      "25  42.299078      1  0.012346                57            0.703704\n",
      "26  40.474723      1  0.012346                58            0.716049\n",
      "27  40.050000      1  0.012346                59            0.728395\n",
      "28  39.531633      1  0.012346                60            0.740741\n",
      "29  38.901834      1  0.012346                61            0.753086\n",
      "30  36.900000      1  0.012346                62            0.765432\n",
      "31  35.643558      1  0.012346                63            0.777778\n",
      "32  35.404192      1  0.012346                64            0.790123\n",
      "33  35.052330      1  0.012346                65            0.802469\n",
      "34  34.000000      1  0.012346                66            0.814815\n",
      "35  31.113584      1  0.012346                67            0.827160\n",
      "36  30.131923      1  0.012346                68            0.839506\n",
      "37  28.860225      1  0.012346                69            0.851852\n",
      "38  27.856252      1  0.012346                70            0.864198\n",
      "39  27.354265      1  0.012346                71            0.876543\n",
      "40  26.852279      1  0.012346                72            0.888889\n",
      "41  24.609132      1  0.012346                73            0.901235\n",
      "42  24.487367      1  0.012346                74            0.913580\n",
      "43  23.605158      1  0.012346                75            0.925926\n",
      "44  21.273708      1  0.012346                76            0.938272\n",
      "45  19.833733      1  0.012346                77            0.950617\n",
      "46  19.678507      1  0.012346                78            0.962963\n",
      "47  19.197888      1  0.012346                79            0.975309\n",
      "48  18.762837      1  0.012346                80            0.987654\n",
      "49  12.101263      1  0.012346                81            1.000000\n",
      "     HP  Count   Percent  Cumulative Count  Cumulative Percent\n",
      "0    92      7  0.086420                 7            0.086420\n",
      "1   115      5  0.061728                12            0.148148\n",
      "2   102      5  0.061728                17            0.209877\n",
      "3    95      5  0.061728                22            0.271605\n",
      "4   165      4  0.049383                26            0.320988\n",
      "5   140      4  0.049383                30            0.370370\n",
      "6   100      4  0.049383                34            0.419753\n",
      "7   130      3  0.037037                37            0.456790\n",
      "8    90      3  0.037037                40            0.493827\n",
      "9    73      3  0.037037                43            0.530864\n",
      "10   55      3  0.037037                46            0.567901\n",
      "11  162      2  0.024691                48            0.592593\n",
      "12   84      2  0.024691                50            0.617284\n",
      "13   81      2  0.024691                52            0.641975\n",
      "14   78      2  0.024691                54            0.666667\n",
      "15   70      2  0.024691                56            0.691358\n",
      "16   62      2  0.024691                58            0.716049\n",
      "17  322      1  0.012346                59            0.728395\n",
      "18  295      1  0.012346                60            0.740741\n",
      "19  280      1  0.012346                61            0.753086\n",
      "20  263      1  0.012346                62            0.765432\n",
      "21  245      1  0.012346                63            0.777778\n",
      "22  238      1  0.012346                64            0.790123\n",
      "23  236      1  0.012346                65            0.802469\n",
      "24  180      1  0.012346                66            0.814815\n",
      "25  175      1  0.012346                67            0.827160\n",
      "26  160      1  0.012346                68            0.839506\n",
      "27  150      1  0.012346                69            0.851852\n",
      "28  145      1  0.012346                70            0.864198\n",
      "29  120      1  0.012346                71            0.876543\n",
      "30  103      1  0.012346                72            0.888889\n",
      "31   98      1  0.012346                73            0.901235\n",
      "32   96      1  0.012346                74            0.913580\n",
      "33   93      1  0.012346                75            0.925926\n",
      "34   80      1  0.012346                76            0.938272\n",
      "35   74      1  0.012346                77            0.950617\n",
      "36   66      1  0.012346                78            0.962963\n",
      "37   53      1  0.012346                79            0.975309\n",
      "38   52      1  0.012346                80            0.987654\n",
      "39   49      1  0.012346                81            1.000000\n",
      "    VOL  Count   Percent  Cumulative Count  Cumulative Percent\n",
      "0    50      9  0.111111                 9            0.111111\n",
      "1    92      8  0.098765                17            0.209877\n",
      "2   101      7  0.086420                24            0.296296\n",
      "3    89      7  0.086420                31            0.382716\n",
      "4   113      4  0.049383                35            0.432099\n",
      "5    99      4  0.049383                39            0.481481\n",
      "6   107      3  0.037037                42            0.518519\n",
      "7    86      3  0.037037                45            0.555556\n",
      "8   129      2  0.024691                47            0.580247\n",
      "9   124      2  0.024691                49            0.604938\n",
      "10  123      2  0.024691                51            0.629630\n",
      "11  115      2  0.024691                53            0.654321\n",
      "12  114      2  0.024691                55            0.679012\n",
      "13  111      2  0.024691                57            0.703704\n",
      "14  103      2  0.024691                59            0.728395\n",
      "15   94      2  0.024691                61            0.753086\n",
      "16   91      2  0.024691                63            0.777778\n",
      "17   88      2  0.024691                65            0.802469\n",
      "18  160      1  0.012346                66            0.814815\n",
      "19  135      1  0.012346                67            0.827160\n",
      "20  132      1  0.012346                68            0.839506\n",
      "21  131      1  0.012346                69            0.851852\n",
      "22  127      1  0.012346                70            0.864198\n",
      "23  121      1  0.012346                71            0.876543\n",
      "24  119      1  0.012346                72            0.888889\n",
      "25  117      1  0.012346                73            0.901235\n",
      "26  116      1  0.012346                74            0.913580\n",
      "27  112      1  0.012346                75            0.925926\n",
      "28  106      1  0.012346                76            0.938272\n",
      "29  104      1  0.012346                77            0.950617\n",
      "30  102      1  0.012346                78            0.962963\n",
      "31   98      1  0.012346                79            0.975309\n",
      "32   97      1  0.012346                80            0.987654\n",
      "33   96      1  0.012346                81            1.000000\n",
      "            SP  Count   Percent  Cumulative Count  Cumulative Percent\n",
      "0   118.288996      4  0.049383                 4            0.049383\n",
      "1   111.185353      3  0.037037                 7            0.086420\n",
      "2   105.461264      3  0.037037                10            0.123457\n",
      "3   119.105055      2  0.024691                12            0.148148\n",
      "4   117.598513      2  0.024691                14            0.172840\n",
      "..         ...    ...       ...               ...                 ...\n",
      "63  110.461264      1  0.012346                77            0.950617\n",
      "64  108.185353      1  0.012346                78            0.962963\n",
      "65  104.461264      1  0.012346                79            0.975309\n",
      "66  104.185353      1  0.012346                80            0.987654\n",
      "67   99.564907      1  0.012346                81            1.000000\n",
      "\n",
      "[68 rows x 5 columns]\n",
      "           WT  Count   Percent  Cumulative Count  Cumulative Percent\n",
      "0   52.997752      1  0.012346                 1            0.012346\n",
      "1   44.013139      1  0.012346                 2            0.024691\n",
      "2   43.390988      1  0.012346                 3            0.037037\n",
      "3   43.353123      1  0.012346                 4            0.049383\n",
      "4   42.778219      1  0.012346                 5            0.061728\n",
      "..        ...    ...       ...               ...                 ...\n",
      "76  15.847758      1  0.012346                77            0.950617\n",
      "77  15.823060      1  0.012346                78            0.962963\n",
      "78  15.769625      1  0.012346                79            0.975309\n",
      "79  15.753535      1  0.012346                80            0.987654\n",
      "80  15.712859      1  0.012346                81            1.000000\n",
      "\n",
      "[81 rows x 5 columns]\n"
     ]
    }
   ],
   "source": [
    "print(cardata.stb.freq([\"MPG\"]))\n",
    "print(cardata.stb.freq([\"HP\"]))\n",
    "print(cardata.stb.freq([\"VOL\"]))\n",
    "print(cardata.stb.freq([\"SP\"]))\n",
    "print(cardata.stb.freq([\"WT\"]))\n"
   ]
  },
  {
   "cell_type": "code",
   "execution_count": 6,
   "metadata": {},
   "outputs": [
    {
     "data": {
      "text/html": [
       "<div>\n",
       "<style scoped>\n",
       "    .dataframe tbody tr th:only-of-type {\n",
       "        vertical-align: middle;\n",
       "    }\n",
       "\n",
       "    .dataframe tbody tr th {\n",
       "        vertical-align: top;\n",
       "    }\n",
       "\n",
       "    .dataframe thead th {\n",
       "        text-align: right;\n",
       "    }\n",
       "</style>\n",
       "<table border=\"1\" class=\"dataframe\">\n",
       "  <thead>\n",
       "    <tr style=\"text-align: right;\">\n",
       "      <th></th>\n",
       "      <th>HP</th>\n",
       "      <th>MPG</th>\n",
       "      <th>VOL</th>\n",
       "      <th>SP</th>\n",
       "      <th>WT</th>\n",
       "    </tr>\n",
       "  </thead>\n",
       "  <tbody>\n",
       "    <tr>\n",
       "      <th>count</th>\n",
       "      <td>81.000000</td>\n",
       "      <td>81.000000</td>\n",
       "      <td>81.000000</td>\n",
       "      <td>81.000000</td>\n",
       "      <td>81.000000</td>\n",
       "    </tr>\n",
       "    <tr>\n",
       "      <th>mean</th>\n",
       "      <td>117.469136</td>\n",
       "      <td>34.422076</td>\n",
       "      <td>98.765432</td>\n",
       "      <td>121.540272</td>\n",
       "      <td>32.412577</td>\n",
       "    </tr>\n",
       "    <tr>\n",
       "      <th>std</th>\n",
       "      <td>57.113502</td>\n",
       "      <td>9.131445</td>\n",
       "      <td>22.301497</td>\n",
       "      <td>14.181432</td>\n",
       "      <td>7.492813</td>\n",
       "    </tr>\n",
       "    <tr>\n",
       "      <th>min</th>\n",
       "      <td>49.000000</td>\n",
       "      <td>12.101263</td>\n",
       "      <td>50.000000</td>\n",
       "      <td>99.564907</td>\n",
       "      <td>15.712859</td>\n",
       "    </tr>\n",
       "    <tr>\n",
       "      <th>25%</th>\n",
       "      <td>84.000000</td>\n",
       "      <td>27.856252</td>\n",
       "      <td>89.000000</td>\n",
       "      <td>113.829145</td>\n",
       "      <td>29.591768</td>\n",
       "    </tr>\n",
       "    <tr>\n",
       "      <th>50%</th>\n",
       "      <td>100.000000</td>\n",
       "      <td>35.152727</td>\n",
       "      <td>101.000000</td>\n",
       "      <td>118.208698</td>\n",
       "      <td>32.734518</td>\n",
       "    </tr>\n",
       "    <tr>\n",
       "      <th>75%</th>\n",
       "      <td>140.000000</td>\n",
       "      <td>39.531633</td>\n",
       "      <td>113.000000</td>\n",
       "      <td>126.404312</td>\n",
       "      <td>37.392524</td>\n",
       "    </tr>\n",
       "    <tr>\n",
       "      <th>max</th>\n",
       "      <td>322.000000</td>\n",
       "      <td>53.700681</td>\n",
       "      <td>160.000000</td>\n",
       "      <td>169.598513</td>\n",
       "      <td>52.997752</td>\n",
       "    </tr>\n",
       "  </tbody>\n",
       "</table>\n",
       "</div>"
      ],
      "text/plain": [
       "               HP        MPG         VOL          SP         WT\n",
       "count   81.000000  81.000000   81.000000   81.000000  81.000000\n",
       "mean   117.469136  34.422076   98.765432  121.540272  32.412577\n",
       "std     57.113502   9.131445   22.301497   14.181432   7.492813\n",
       "min     49.000000  12.101263   50.000000   99.564907  15.712859\n",
       "25%     84.000000  27.856252   89.000000  113.829145  29.591768\n",
       "50%    100.000000  35.152727  101.000000  118.208698  32.734518\n",
       "75%    140.000000  39.531633  113.000000  126.404312  37.392524\n",
       "max    322.000000  53.700681  160.000000  169.598513  52.997752"
      ]
     },
     "execution_count": 6,
     "metadata": {},
     "output_type": "execute_result"
    }
   ],
   "source": [
    "cardata.describe(include='all')"
   ]
  },
  {
   "cell_type": "code",
   "execution_count": 7,
   "metadata": {},
   "outputs": [
    {
     "data": {
      "text/plain": [
       "HP      84.000000\n",
       "MPG     27.856252\n",
       "VOL     89.000000\n",
       "SP     113.829145\n",
       "WT      29.591768\n",
       "Name: 0.25, dtype: float64"
      ]
     },
     "execution_count": 7,
     "metadata": {},
     "output_type": "execute_result"
    }
   ],
   "source": [
    "Q1 = cardata.quantile(0.25)\n",
    "Q3 = cardata.quantile(0.75)\n",
    "IQR = Q3 - Q1\n",
    "Q1\n"
   ]
  },
  {
   "cell_type": "code",
   "execution_count": 8,
   "metadata": {},
   "outputs": [],
   "source": [
    "def min_outlier(Q1,IQR):\n",
    "    outlier_value=Q1-(2*IQR)\n",
    "    return outlier_value    \n"
   ]
  },
  {
   "cell_type": "code",
   "execution_count": 9,
   "metadata": {},
   "outputs": [
    {
     "name": "stdout",
     "output_type": "stream",
     "text": [
      "HP outlier -28\n",
      "MPG outlier 4.5\n",
      "VOL outlier 41\n",
      "SP outlier 88.67\n",
      "WT outlier 13.980000000000002\n"
     ]
    }
   ],
   "source": [
    "print(\"HP outlier {}\".format(min_outlier(84,56)))\n",
    "print(\"MPG outlier {}\".format(min_outlier(27.86,11.68)))\n",
    "print(\"VOL outlier {}\".format(min_outlier(89,24)))\n",
    "print(\"SP outlier {}\".format(min_outlier(113.83,12.58)))\n",
    "print(\"WT outlier {}\".format(min_outlier(29.6,7.81)))\n"
   ]
  },
  {
   "cell_type": "code",
   "execution_count": 10,
   "metadata": {},
   "outputs": [
    {
     "name": "stdout",
     "output_type": "stream",
     "text": [
      "Empty DataFrame\n",
      "Columns: [HP, MPG, VOL, SP, WT]\n",
      "Index: []\n"
     ]
    }
   ],
   "source": [
    "print(cardata.loc[((cardata.HP)< .28)])\n",
    "#no outlier        "
   ]
  },
  {
   "cell_type": "code",
   "execution_count": 11,
   "metadata": {},
   "outputs": [
    {
     "name": "stdout",
     "output_type": "stream",
     "text": [
      "Empty DataFrame\n",
      "Columns: [HP, MPG, VOL, SP, WT]\n",
      "Index: []\n"
     ]
    }
   ],
   "source": [
    "print(cardata.loc[((cardata.MPG)< 4.5)])\n"
   ]
  },
  {
   "cell_type": "code",
   "execution_count": 12,
   "metadata": {},
   "outputs": [
    {
     "name": "stdout",
     "output_type": "stream",
     "text": [
      "Empty DataFrame\n",
      "Columns: [HP, MPG, VOL, SP, WT]\n",
      "Index: []\n"
     ]
    }
   ],
   "source": [
    "print(cardata.loc[((cardata.VOL)< 41)])\n"
   ]
  },
  {
   "cell_type": "code",
   "execution_count": 13,
   "metadata": {},
   "outputs": [
    {
     "name": "stdout",
     "output_type": "stream",
     "text": [
      "Empty DataFrame\n",
      "Columns: [HP, MPG, VOL, SP, WT]\n",
      "Index: []\n"
     ]
    }
   ],
   "source": [
    "print(cardata.loc[((cardata.SP)< 88)])\n"
   ]
  },
  {
   "cell_type": "code",
   "execution_count": 14,
   "metadata": {},
   "outputs": [
    {
     "name": "stdout",
     "output_type": "stream",
     "text": [
      "Empty DataFrame\n",
      "Columns: [HP, MPG, VOL, SP, WT]\n",
      "Index: []\n"
     ]
    }
   ],
   "source": [
    "print(cardata.loc[((cardata.WT)< 13.5)])\n"
   ]
  },
  {
   "cell_type": "code",
   "execution_count": 15,
   "metadata": {},
   "outputs": [],
   "source": [
    "#these are not outlier by domain knowldege \n"
   ]
  },
  {
   "cell_type": "code",
   "execution_count": 16,
   "metadata": {},
   "outputs": [],
   "source": [
    "def max_outlier(Q3,IQR):\n",
    "    outlier_value=Q3+(2*IQR)\n",
    "    return outlier_value    "
   ]
  },
  {
   "cell_type": "code",
   "execution_count": 17,
   "metadata": {},
   "outputs": [
    {
     "name": "stdout",
     "output_type": "stream",
     "text": [
      "HP outlier 252\n",
      "MPG outlier 62.86\n",
      "VOL outlier 161\n",
      "SP outlier 151.66\n",
      "WT outlier 53.12\n"
     ]
    }
   ],
   "source": [
    "print(\"HP outlier {}\".format(max_outlier(140,56)))\n",
    "print(\"MPG outlier {}\".format(max_outlier(39.5,11.68)))\n",
    "print(\"VOL outlier {}\".format(max_outlier(113,24)))\n",
    "print(\"SP outlier {}\".format(max_outlier(126.5,12.58)))\n",
    "print(\"WT outlier {}\".format(max_outlier(37.5,7.81)))\n"
   ]
  },
  {
   "cell_type": "code",
   "execution_count": 18,
   "metadata": {},
   "outputs": [
    {
     "name": "stdout",
     "output_type": "stream",
     "text": [
      "     HP        MPG  VOL          SP         WT\n",
      "70  280  19.678507   50  164.598513  15.823060\n",
      "76  322  36.900000   50  169.598513  16.132947\n",
      "78  263  34.000000   50  151.598513  15.769625\n",
      "79  295  19.833733  119  167.944460  39.423099\n"
     ]
    }
   ],
   "source": [
    "print(cardata.loc[((cardata.HP)> 252)])\n",
    "#no outlier        "
   ]
  },
  {
   "cell_type": "code",
   "execution_count": 19,
   "metadata": {},
   "outputs": [
    {
     "name": "stdout",
     "output_type": "stream",
     "text": [
      "Empty DataFrame\n",
      "Columns: [HP, MPG, VOL, SP, WT]\n",
      "Index: []\n"
     ]
    }
   ],
   "source": [
    "print(cardata.loc[((cardata.MPG)> 63)])\n"
   ]
  },
  {
   "cell_type": "code",
   "execution_count": 20,
   "metadata": {},
   "outputs": [
    {
     "name": "stdout",
     "output_type": "stream",
     "text": [
      "Empty DataFrame\n",
      "Columns: [HP, MPG, VOL, SP, WT]\n",
      "Index: []\n"
     ]
    }
   ],
   "source": [
    "print(cardata.loc[((cardata.VOL)> 161)])\n"
   ]
  },
  {
   "cell_type": "code",
   "execution_count": 21,
   "metadata": {},
   "outputs": [
    {
     "name": "stdout",
     "output_type": "stream",
     "text": [
      "     HP        MPG  VOL          SP         WT\n",
      "69  245  21.273708  112  158.300669  37.141733\n",
      "70  280  19.678507   50  164.598513  15.823060\n",
      "76  322  36.900000   50  169.598513  16.132947\n",
      "79  295  19.833733  119  167.944460  39.423099\n"
     ]
    }
   ],
   "source": [
    "print(cardata.loc[((cardata.SP)>151.66)])\n"
   ]
  },
  {
   "cell_type": "code",
   "execution_count": 22,
   "metadata": {},
   "outputs": [
    {
     "name": "stdout",
     "output_type": "stream",
     "text": [
      "Empty DataFrame\n",
      "Columns: [HP, MPG, VOL, SP, WT]\n",
      "Index: []\n"
     ]
    }
   ],
   "source": [
    "print(cardata.loc[((cardata.WT)>53.12)])\n"
   ]
  },
  {
   "cell_type": "code",
   "execution_count": 23,
   "metadata": {},
   "outputs": [
    {
     "name": "stdout",
     "output_type": "stream",
     "text": [
      "SP > 151.66: 4\n"
     ]
    },
    {
     "data": {
      "application/javascript": [
       "\n",
       "        if (window._pyforest_update_imports_cell) { window._pyforest_update_imports_cell('import pandas as pd\\nimport numpy as np'); }\n",
       "    "
      ],
      "text/plain": [
       "<IPython.core.display.Javascript object>"
      ]
     },
     "metadata": {},
     "output_type": "display_data"
    },
    {
     "name": "stdout",
     "output_type": "stream",
     "text": [
      "Percentage of outliers: 0.04938271604938271\n"
     ]
    }
   ],
   "source": [
    "print('SP > 151.66: {}'.format(cardata[cardata.SP>151.66].shape[0]))\n",
    "print('Percentage of outliers: {}'.format(cardata[cardata.SP>151.6].shape[0]/np.float(cardata.shape[0])))"
   ]
  },
  {
   "cell_type": "code",
   "execution_count": 24,
   "metadata": {},
   "outputs": [
    {
     "data": {
      "text/plain": [
       "151.6"
      ]
     },
     "execution_count": 24,
     "metadata": {},
     "output_type": "execute_result"
    }
   ],
   "source": [
    "cardata.loc[cardata.SP>151.6,'SP'] = 151.6\n",
    "cardata.SP.max()"
   ]
  },
  {
   "cell_type": "code",
   "execution_count": 25,
   "metadata": {},
   "outputs": [
    {
     "name": "stdout",
     "output_type": "stream",
     "text": [
      "HP > 252: 4\n"
     ]
    },
    {
     "data": {
      "application/javascript": [
       "\n",
       "        if (window._pyforest_update_imports_cell) { window._pyforest_update_imports_cell('import pandas as pd\\nimport numpy as np'); }\n",
       "    "
      ],
      "text/plain": [
       "<IPython.core.display.Javascript object>"
      ]
     },
     "metadata": {},
     "output_type": "display_data"
    },
    {
     "name": "stdout",
     "output_type": "stream",
     "text": [
      "Percentage of outliers: 0.04938271604938271\n"
     ]
    }
   ],
   "source": [
    "print('HP > 252: {}'.format(cardata[cardata.HP>252].shape[0]))\n",
    "print('Percentage of outliers: {}'.format(cardata[cardata.HP>252].shape[0]/np.float(cardata.shape[0])))"
   ]
  },
  {
   "cell_type": "code",
   "execution_count": 26,
   "metadata": {},
   "outputs": [
    {
     "data": {
      "text/plain": [
       "252"
      ]
     },
     "execution_count": 26,
     "metadata": {},
     "output_type": "execute_result"
    }
   ],
   "source": [
    "cardata.loc[cardata.HP>252,'HP'] = 252\n",
    "cardata.HP.max()"
   ]
  },
  {
   "cell_type": "code",
   "execution_count": 27,
   "metadata": {},
   "outputs": [
    {
     "name": "stderr",
     "output_type": "stream",
     "text": [
      "C:\\Users\\Sanchi\\Anaconda3\\lib\\site-packages\\statsmodels\\tools\\_testing.py:19: FutureWarning: pandas.util.testing is deprecated. Use the functions in the public API at pandas.testing instead.\n",
      "  import pandas.util.testing as tm\n"
     ]
    },
    {
     "data": {
      "application/javascript": [
       "\n",
       "        if (window._pyforest_update_imports_cell) { window._pyforest_update_imports_cell('import pandas as pd\\nimport seaborn as sns\\nimport numpy as np'); }\n",
       "    "
      ],
      "text/plain": [
       "<IPython.core.display.Javascript object>"
      ]
     },
     "metadata": {},
     "output_type": "display_data"
    },
    {
     "name": "stdout",
     "output_type": "stream",
     "text": [
      "stats=0.8510457277297974, p=1.5302538258765708e-07\n",
      "SKEW=1.3474242770855498\n",
      "KURT=1.334185960707388\n"
     ]
    },
    {
     "data": {
      "image/png": "[encoded data removed]",
      "text/plain": [
       "<Figure size 432x288 with 1 Axes>"
      ]
     },
     "metadata": {
      "needs_background": "light"
     },
     "output_type": "display_data"
    }
   ],
   "source": [
    "sns.distplot(cardata.HP)\n",
    "import scipy\n",
    "stat, p=scipy.stats.shapiro(cardata.HP)\n",
    "print(\"stats={}, p={}\".format(stat,p))\n",
    "# Null Rejected data is not normal distributed bcz p is less than 0.05\n",
    "print(\"SKEW={}\".format(cardata.HP.skew()))\n",
    "print(\"KURT={}\".format(cardata.HP.kurt()))"
   ]
  },
  {
   "cell_type": "code",
   "execution_count": 28,
   "metadata": {},
   "outputs": [
    {
     "data": {
      "application/javascript": [
       "\n",
       "        if (window._pyforest_update_imports_cell) { window._pyforest_update_imports_cell('import pandas as pd\\nimport seaborn as sns\\nimport numpy as np'); }\n",
       "    "
      ],
      "text/plain": [
       "<IPython.core.display.Javascript object>"
      ]
     },
     "metadata": {},
     "output_type": "display_data"
    },
    {
     "name": "stdout",
     "output_type": "stream",
     "text": [
      "stats=0.9779686331748962, p=0.17639249563217163\n",
      "SKEW=-0.17794674747025727\n",
      "KURT=-0.6116786559430913\n"
     ]
    },
    {
     "data": {
      "image/png": "[encoded data removed]",
      "text/plain": [
       "<Figure size 432x288 with 1 Axes>"
      ]
     },
     "metadata": {
      "needs_background": "light"
     },
     "output_type": "display_data"
    }
   ],
   "source": [
    "sns.distplot(cardata.MPG)\n",
    "stat, p=scipy.stats.shapiro(cardata.MPG)\n",
    "print(\"stats={}, p={}\".format(stat,p))\n",
    "# Null Rejected data is  normal distributed bcz p is great than 0.05\n",
    "print(\"SKEW={}\".format(cardata.MPG.skew()))\n",
    "print(\"KURT={}\".format(cardata.MPG.kurt()))"
   ]
  },
  {
   "cell_type": "code",
   "execution_count": 29,
   "metadata": {},
   "outputs": [
    {
     "data": {
      "application/javascript": [
       "\n",
       "        if (window._pyforest_update_imports_cell) { window._pyforest_update_imports_cell('import pandas as pd\\nimport seaborn as sns\\nimport numpy as np'); }\n",
       "    "
      ],
      "text/plain": [
       "<IPython.core.display.Javascript object>"
      ]
     },
     "metadata": {},
     "output_type": "display_data"
    },
    {
     "name": "stdout",
     "output_type": "stream",
     "text": [
      "stats=0.9129294157028198, p=4.0332139178644866e-05\n",
      "SKEW=-0.5901968186877561\n",
      "KURT=0.9202285729168072\n"
     ]
    },
    {
     "data": {
      "image/png": "[encoded data removed]",
      "text/plain": [
       "<Figure size 432x288 with 1 Axes>"
      ]
     },
     "metadata": {
      "needs_background": "light"
     },
     "output_type": "display_data"
    }
   ],
   "source": [
    "sns.distplot(cardata.VOL)\n",
    "stat, p=scipy.stats.shapiro(cardata.VOL)\n",
    "print(\"stats={}, p={}\".format(stat,p))\n",
    "# Null Rejected data is not normal distributed bcz p is less than 0.05\n",
    "print(\"SKEW={}\".format(cardata.VOL.skew()))\n",
    "print(\"KURT={}\".format(cardata.VOL.kurt()))"
   ]
  },
  {
   "cell_type": "code",
   "execution_count": 30,
   "metadata": {},
   "outputs": [
    {
     "data": {
      "application/javascript": [
       "\n",
       "        if (window._pyforest_update_imports_cell) { window._pyforest_update_imports_cell('import pandas as pd\\nimport seaborn as sns\\nimport numpy as np'); }\n",
       "    "
      ],
      "text/plain": [
       "<IPython.core.display.Javascript object>"
      ]
     },
     "metadata": {},
     "output_type": "display_data"
    },
    {
     "name": "stdout",
     "output_type": "stream",
     "text": [
      "stats=0.9017472863197327, p=1.291977969231084e-05\n",
      "SKEW=1.052591233584983\n",
      "KURT=0.8926771129385918\n"
     ]
    },
    {
     "data": {
      "image/png": "[encoded data removed]",
      "text/plain": [
       "<Figure size 432x288 with 1 Axes>"
      ]
     },
     "metadata": {
      "needs_background": "light"
     },
     "output_type": "display_data"
    }
   ],
   "source": [
    "sns.distplot(cardata.SP)\n",
    "stat, p=scipy.stats.shapiro(cardata.SP)\n",
    "print(\"stats={}, p={}\".format(stat,p))\n",
    "# Null Rejected data is not normal distributed bcz p is less than 0.05\n",
    "print(\"SKEW={}\".format(cardata.SP.skew()))\n",
    "print(\"KURT={}\".format(cardata.SP.kurt()))"
   ]
  },
  {
   "cell_type": "code",
   "execution_count": 31,
   "metadata": {},
   "outputs": [
    {
     "data": {
      "application/javascript": [
       "\n",
       "        if (window._pyforest_update_imports_cell) { window._pyforest_update_imports_cell('import pandas as pd\\nimport seaborn as sns\\nimport numpy as np'); }\n",
       "    "
      ],
      "text/plain": [
       "<IPython.core.display.Javascript object>"
      ]
     },
     "metadata": {},
     "output_type": "display_data"
    },
    {
     "name": "stdout",
     "output_type": "stream",
     "text": [
      "stats=0.9126484394073486, p=3.91601788578555e-05\n",
      "SKEW=-0.6147533255357768\n",
      "KURT=0.9502914910300326\n"
     ]
    },
    {
     "data": {
      "image/png": "[encoded data removed]",
      "text/plain": [
       "<Figure size 432x288 with 1 Axes>"
      ]
     },
     "metadata": {
      "needs_background": "light"
     },
     "output_type": "display_data"
    }
   ],
   "source": [
    "sns.distplot(cardata.WT)\n",
    "stat, p=scipy.stats.shapiro(cardata.WT)\n",
    "print(\"stats={}, p={}\".format(stat,p))\n",
    "# Null Rejected data is not normal distributed bcz p is less than 0.05\n",
    "print(\"SKEW={}\".format(cardata.WT.skew()))\n",
    "print(\"KURT={}\".format(cardata.WT.kurt()))"
   ]
  },
  {
   "cell_type": "code",
   "execution_count": 32,
   "metadata": {},
   "outputs": [
    {
     "data": {
      "application/javascript": [
       "\n",
       "        if (window._pyforest_update_imports_cell) { window._pyforest_update_imports_cell('import pandas as pd\\nimport seaborn as sns\\nimport numpy as np'); }\n",
       "    "
      ],
      "text/plain": [
       "<IPython.core.display.Javascript object>"
      ]
     },
     "metadata": {},
     "output_type": "display_data"
    },
    {
     "data": {
      "text/plain": [
       "<matplotlib.axes._subplots.AxesSubplot at 0x21ed9a56860>"
      ]
     },
     "execution_count": 32,
     "metadata": {},
     "output_type": "execute_result"
    },
    {
     "data": {
      "image/png": "[encoded data removed]",
      "text/plain": [
       "<Figure size 432x288 with 2 Axes>"
      ]
     },
     "metadata": {
      "needs_background": "light"
     },
     "output_type": "display_data"
    }
   ],
   "source": [
    "sns.heatmap(cardata.corr(), cmap='coolwarm', annot=True, vmin=-1, vmax=1)"
   ]
  },
  {
   "cell_type": "code",
   "execution_count": 135,
   "metadata": {},
   "outputs": [],
   "source": [
    "x=cardata.drop(columns=\"WT\")\n",
    "y=cardata[[\"WT\"]]\n",
    "y=y.values.ravel()"
   ]
  },
  {
   "cell_type": "code",
   "execution_count": 136,
   "metadata": {},
   "outputs": [
    {
     "name": "stdout",
     "output_type": "stream",
     "text": [
      "(60, 4) (60,)\n",
      "(21, 4) (21,)\n"
     ]
    }
   ],
   "source": [
    "from sklearn.model_selection import train_test_split\n",
    "x_train, x_test, y_train, y_test = train_test_split(x,y, random_state=0)\n",
    "print(x_train.shape, y_train.shape)\n",
    "print(x_test.shape, y_test.shape)"
   ]
  },
  {
   "cell_type": "markdown",
   "metadata": {},
   "source": [
    "# model buliding by RFR\n"
   ]
  },
  {
   "cell_type": "code",
   "execution_count": 8,
   "metadata": {},
   "outputs": [],
   "source": [
    "from sklearn.ensemble import RandomForestRegressor as RFR"
   ]
  },
  {
   "cell_type": "code",
   "execution_count": 138,
   "metadata": {},
   "outputs": [],
   "source": [
    "model1= RFR(n_estimators=100, criterion='mse', max_depth=7,random_state=5)\n"
   ]
  },
  {
   "cell_type": "code",
   "execution_count": 139,
   "metadata": {},
   "outputs": [
    {
     "data": {
      "text/plain": [
       "RandomForestRegressor(bootstrap=True, criterion='mse', max_depth=7,\n",
       "           max_features='auto', max_leaf_nodes=None,\n",
       "           min_impurity_decrease=0.0, min_impurity_split=None,\n",
       "           min_samples_leaf=1, min_samples_split=2,\n",
       "           min_weight_fraction_leaf=0.0, n_estimators=100, n_jobs=None,\n",
       "           oob_score=False, random_state=5, verbose=0, warm_start=False)"
      ]
     },
     "execution_count": 139,
     "metadata": {},
     "output_type": "execute_result"
    }
   ],
   "source": [
    "model1.fit(x_train,y_train)"
   ]
  },
  {
   "cell_type": "code",
   "execution_count": 140,
   "metadata": {},
   "outputs": [],
   "source": [
    "predict=model1.predict(x_test)"
   ]
  },
  {
   "cell_type": "code",
   "execution_count": 141,
   "metadata": {},
   "outputs": [],
   "source": [
    "from sklearn.metrics import r2_score,mean_squared_error"
   ]
  },
  {
   "cell_type": "code",
   "execution_count": 142,
   "metadata": {},
   "outputs": [
    {
     "name": "stdout",
     "output_type": "stream",
     "text": [
      "0.8499816696342941\n"
     ]
    },
    {
     "data": {
      "text/plain": [
       "4.831988723051355"
      ]
     },
     "execution_count": 142,
     "metadata": {},
     "output_type": "execute_result"
    }
   ],
   "source": [
    "r2score=r2_score(y_test,predict)\n",
    "print(r2score)\n",
    "mean_squared_error(y_test,predict)\n"
   ]
  },
  {
   "cell_type": "markdown",
   "metadata": {},
   "source": [
    "# Building Model with the help of Grid Search CV & K fold cross validation"
   ]
  },
  {
   "cell_type": "code",
   "execution_count": 4,
   "metadata": {},
   "outputs": [],
   "source": [
    "from sklearn.model_selection import cross_val_score, GridSearchCV,cross_val_predict,cross_validate"
   ]
  },
  {
   "cell_type": "code",
   "execution_count": 5,
   "metadata": {},
   "outputs": [
    {
     "data": {
      "application/javascript": [
       "\n",
       "        if (window._pyforest_update_imports_cell) { window._pyforest_update_imports_cell('import pandas as pd\\nimport sklearn'); }\n",
       "    "
      ],
      "text/plain": [
       "<IPython.core.display.Javascript object>"
      ]
     },
     "metadata": {},
     "output_type": "display_data"
    },
    {
     "data": {
      "text/plain": [
       "dict_keys(['explained_variance', 'r2', 'max_error', 'neg_median_absolute_error', 'neg_mean_absolute_error', 'neg_mean_squared_error', 'neg_mean_squared_log_error', 'neg_root_mean_squared_error', 'neg_mean_poisson_deviance', 'neg_mean_gamma_deviance', 'accuracy', 'roc_auc', 'roc_auc_ovr', 'roc_auc_ovo', 'roc_auc_ovr_weighted', 'roc_auc_ovo_weighted', 'balanced_accuracy', 'average_precision', 'neg_log_loss', 'neg_brier_score', 'adjusted_rand_score', 'homogeneity_score', 'completeness_score', 'v_measure_score', 'mutual_info_score', 'adjusted_mutual_info_score', 'normalized_mutual_info_score', 'fowlkes_mallows_score', 'precision', 'precision_macro', 'precision_micro', 'precision_samples', 'precision_weighted', 'recall', 'recall_macro', 'recall_micro', 'recall_samples', 'recall_weighted', 'f1', 'f1_macro', 'f1_micro', 'f1_samples', 'f1_weighted', 'jaccard', 'jaccard_macro', 'jaccard_micro', 'jaccard_samples', 'jaccard_weighted'])"
      ]
     },
     "execution_count": 5,
     "metadata": {},
     "output_type": "execute_result"
    }
   ],
   "source": [
    "sklearn.metrics.SCORERS.keys()"
   ]
  },
  {
   "cell_type": "code",
   "execution_count": 9,
   "metadata": {},
   "outputs": [
    {
     "data": {
      "text/plain": [
       "GridSearchCV(cv=10, estimator=RandomForestRegressor(), n_jobs=-1,\n",
       "             param_grid={'max_depth': range(3, 7, 10),\n",
       "                         'n_estimators': (10, 50, 100, 200, 1000)},\n",
       "             scoring='r2')"
      ]
     },
     "execution_count": 9,
     "metadata": {},
     "output_type": "execute_result"
    }
   ],
   "source": [
    "gridsearch=GridSearchCV(\n",
    "        estimator=RFR(),\n",
    "        param_grid={\n",
    "            'max_depth': range(3,7,10),\n",
    "            'n_estimators': (10, 50, 100,200, 1000),\n",
    "        },\n",
    "        cv=10, scoring='r2', verbose=0,n_jobs=-1)\n",
    "gridsearch"
   ]
  },
  {
   "cell_type": "code",
   "execution_count": 10,
   "metadata": {},
   "outputs": [
    {
     "ename": "NameError",
     "evalue": "name 'x_train' is not defined",
     "output_type": "error",
     "traceback": [
      "\u001b[1;31m---------------------------------------------------------------------------\u001b[0m",
      "\u001b[1;31mNameError\u001b[0m                                 Traceback (most recent call last)",
      "\u001b[1;32m<ipython-input-10-1e97a76e14b6>\u001b[0m in \u001b[0;36m<module>\u001b[1;34m\u001b[0m\n\u001b[1;32m----> 1\u001b[1;33m \u001b[0mgrid_result\u001b[0m \u001b[1;33m=\u001b[0m \u001b[0mgridsearch\u001b[0m\u001b[1;33m.\u001b[0m\u001b[0mfit\u001b[0m\u001b[1;33m(\u001b[0m\u001b[0mx_train\u001b[0m\u001b[1;33m,\u001b[0m\u001b[0my_train\u001b[0m\u001b[1;33m)\u001b[0m\u001b[1;33m\u001b[0m\u001b[1;33m\u001b[0m\u001b[0m\n\u001b[0m\u001b[0;32m      2\u001b[0m \u001b[0mgrid_result\u001b[0m\u001b[1;33m\u001b[0m\u001b[1;33m\u001b[0m\u001b[0m\n",
      "\u001b[1;31mNameError\u001b[0m: name 'x_train' is not defined"
     ]
    }
   ],
   "source": [
    "grid_result = gridsearch.fit(x_train,y_train)\n",
    "grid_result"
   ]
  },
  {
   "cell_type": "code",
   "execution_count": 147,
   "metadata": {},
   "outputs": [
    {
     "data": {
      "text/plain": [
       "{'max_depth': 3, 'n_estimators': 1000}"
      ]
     },
     "execution_count": 147,
     "metadata": {},
     "output_type": "execute_result"
    }
   ],
   "source": [
    "best_params = grid_result.best_params_\n",
    "best_params"
   ]
  },
  {
   "cell_type": "code",
   "execution_count": 148,
   "metadata": {},
   "outputs": [],
   "source": [
    "model2 = RFR(max_depth=3, n_estimators=50,random_state=False, verbose=False)"
   ]
  },
  {
   "cell_type": "code",
   "execution_count": 149,
   "metadata": {},
   "outputs": [
    {
     "data": {
      "text/plain": [
       "{'fit_time': array([0.10122228, 0.06089091, 0.08867288, 0.04116058, 0.04990268]),\n",
       " 'score_time': array([0.00691366, 0.00650334, 0.00475812, 0.00466514, 0.00398636]),\n",
       " 'test_score': array([0.98440954, 0.98449777, 0.86704782, 0.97168901, 0.9271192 ]),\n",
       " 'train_score': array([0.98116931, 0.98800124, 0.98782872, 0.98719071, 0.98736873])}"
      ]
     },
     "execution_count": 149,
     "metadata": {},
     "output_type": "execute_result"
    }
   ],
   "source": [
    "scores = cross_validate(model2, x, y, cv=5,return_train_score=True)\n",
    "scores"
   ]
  },
  {
   "cell_type": "code",
   "execution_count": 150,
   "metadata": {},
   "outputs": [
    {
     "data": {
      "text/plain": [
       "array([0.98440954, 0.98449777, 0.86704782, 0.97168901, 0.9271192 ])"
      ]
     },
     "execution_count": 150,
     "metadata": {},
     "output_type": "execute_result"
    }
   ],
   "source": [
    "scores1 = cross_val_score(model2, x, y, cv=5,scoring=\"r2\")\n",
    "scores1"
   ]
  },
  {
   "cell_type": "code",
   "execution_count": 151,
   "metadata": {},
   "outputs": [
    {
     "data": {
      "text/plain": [
       "0.9469526671226676"
      ]
     },
     "execution_count": 151,
     "metadata": {},
     "output_type": "execute_result"
    }
   ],
   "source": [
    "scores1.mean()"
   ]
  },
  {
   "cell_type": "code",
   "execution_count": 152,
   "metadata": {},
   "outputs": [
    {
     "data": {
      "text/plain": [
       "array([29.41559948, 29.44929981, 29.44929981, 29.44929981, 29.44929981,\n",
       "       29.41559948, 29.44929981, 16.49382981, 16.49382981, 29.44929981,\n",
       "       29.41559948, 16.5798503 , 33.15485717, 29.41559948, 29.41559948,\n",
       "       29.41559948, 29.44929981, 15.82986057, 29.57210252, 33.3106784 ,\n",
       "       33.19132424, 35.05053275, 33.19132424, 30.13001254, 29.57210252,\n",
       "       15.85570135, 37.95816725, 33.19132424, 33.39081209, 35.05053275,\n",
       "       37.95816725, 33.19132424, 32.79943835, 38.4147471 , 33.15254022,\n",
       "       31.8417027 , 30.05157626, 30.05157626, 30.05157626, 30.2250317 ,\n",
       "       38.31907061, 34.17559904, 30.06989776, 30.05157626, 33.15254022,\n",
       "       33.08497411, 38.31907061, 33.40223197, 30.20671021, 33.17860889,\n",
       "       33.17860889, 33.17860889, 41.67809312, 38.03979971, 38.03979971,\n",
       "       41.67809312, 29.68519596, 33.17860889, 29.7947751 , 37.8973385 ,\n",
       "       37.98503914, 37.8973385 , 42.74743457, 40.89561001, 39.88151929,\n",
       "       15.96537727, 37.3014169 , 40.77912446, 40.77912446, 37.17312251,\n",
       "       15.99580163, 41.24240349, 41.24240349, 41.24240349, 41.24240349,\n",
       "       41.24240349, 15.99580163, 37.31524176, 15.99580163, 38.1633943 ,\n",
       "       35.67991483])"
      ]
     },
     "execution_count": 152,
     "metadata": {},
     "output_type": "execute_result"
    }
   ],
   "source": [
    "predict_cross=cross_val_predict(model2, x, y, cv=5)\n",
    "predict_cross"
   ]
  },
  {
   "cell_type": "code",
   "execution_count": 153,
   "metadata": {},
   "outputs": [],
   "source": [
    "residual=y-predict_cross"
   ]
  },
  {
   "cell_type": "code",
   "execution_count": 154,
   "metadata": {},
   "outputs": [
    {
     "data": {
      "text/plain": [
       "0.12287937512528721"
      ]
     },
     "execution_count": 154,
     "metadata": {},
     "output_type": "execute_result"
    }
   ],
   "source": [
    "residual.mean()"
   ]
  },
  {
   "cell_type": "code",
   "execution_count": 155,
   "metadata": {},
   "outputs": [
    {
     "data": {
      "application/javascript": [
       "\n",
       "        if (window._pyforest_update_imports_cell) { window._pyforest_update_imports_cell('import sklearn\\nimport pandas as pd\\nimport seaborn as sns\\nimport numpy as np'); }\n",
       "    "
      ],
      "text/plain": [
       "<IPython.core.display.Javascript object>"
      ]
     },
     "metadata": {},
     "output_type": "display_data"
    },
    {
     "data": {
      "text/plain": [
       "<matplotlib.axes._subplots.AxesSubplot at 0x21eda842cc0>"
      ]
     },
     "execution_count": 155,
     "metadata": {},
     "output_type": "execute_result"
    },
    {
     "data": {
      "image/png": "[encoded data removed]",
      "text/plain": [
       "<Figure size 432x288 with 1 Axes>"
      ]
     },
     "metadata": {
      "needs_background": "light"
     },
     "output_type": "display_data"
    }
   ],
   "source": [
    "sns.distplot(residual)"
   ]
  },
  {
   "cell_type": "code",
   "execution_count": null,
   "metadata": {},
   "outputs": [],
   "source": []
  }
 ],
 "metadata": {
  "kernelspec": {
   "display_name": "Python 3",
   "language": "python",
   "name": "python3"
  },
  "language_info": {
   "codemirror_mode": {
    "name": "ipython",
    "version": 3
   },
   "file_extension": ".py",
   "mimetype": "text/x-python",
   "name": "python",
   "nbconvert_exporter": "python",
   "pygments_lexer": "ipython3",
   "version": "3.7.3"
  }
 },
 "nbformat": 4,
 "nbformat_minor": 2
}
