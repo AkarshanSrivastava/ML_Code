{
 "cells": [
  {
   "cell_type": "code",
   "execution_count": 1,
   "metadata": {},
   "outputs": [],
   "source": [
    "from sklearn import datasets\n"
   ]
  },
  {
   "cell_type": "code",
   "execution_count": 2,
   "metadata": {},
   "outputs": [
    {
     "name": "stdout",
     "output_type": "stream",
     "text": [
      "(506, 13) (506,)\n",
      "['CRIM' 'ZN' 'INDUS' 'CHAS' 'NOX' 'RM' 'AGE' 'DIS' 'RAD' 'TAX' 'PTRATIO'\n",
      " 'B' 'LSTAT']\n"
     ]
    }
   ],
   "source": [
    "boston = datasets.load_boston()\n",
    "print(boston.data.shape, boston.target.shape)\n",
    "print(boston.feature_names)"
   ]
  },
  {
   "cell_type": "code",
   "execution_count": 51,
   "metadata": {},
   "outputs": [
    {
     "data": {
      "application/javascript": [
       "\n",
       "        if (window._pyforest_update_imports_cell) { window._pyforest_update_imports_cell('import pandas as pd'); }\n",
       "    "
      ],
      "text/plain": [
       "<IPython.core.display.Javascript object>"
      ]
     },
     "metadata": {},
     "output_type": "display_data"
    },
    {
     "data": {
      "application/javascript": [
       "\n",
       "        if (window._pyforest_update_imports_cell) { window._pyforest_update_imports_cell('import pandas as pd'); }\n",
       "    "
      ],
      "text/plain": [
       "<IPython.core.display.Javascript object>"
      ]
     },
     "metadata": {},
     "output_type": "display_data"
    },
    {
     "data": {
      "application/javascript": [
       "\n",
       "        if (window._pyforest_update_imports_cell) { window._pyforest_update_imports_cell('import pandas as pd'); }\n",
       "    "
      ],
      "text/plain": [
       "<IPython.core.display.Javascript object>"
      ]
     },
     "metadata": {},
     "output_type": "display_data"
    },
    {
     "data": {
      "text/html": [
       "<div>\n",
       "<style scoped>\n",
       "    .dataframe tbody tr th:only-of-type {\n",
       "        vertical-align: middle;\n",
       "    }\n",
       "\n",
       "    .dataframe tbody tr th {\n",
       "        vertical-align: top;\n",
       "    }\n",
       "\n",
       "    .dataframe thead th {\n",
       "        text-align: right;\n",
       "    }\n",
       "</style>\n",
       "<table border=\"1\" class=\"dataframe\">\n",
       "  <thead>\n",
       "    <tr style=\"text-align: right;\">\n",
       "      <th></th>\n",
       "      <th>CRIM</th>\n",
       "      <th>ZN</th>\n",
       "      <th>INDUS</th>\n",
       "      <th>CHAS</th>\n",
       "      <th>NOX</th>\n",
       "      <th>RM</th>\n",
       "      <th>AGE</th>\n",
       "      <th>DIS</th>\n",
       "      <th>RAD</th>\n",
       "      <th>TAX</th>\n",
       "      <th>PTRATIO</th>\n",
       "      <th>B</th>\n",
       "      <th>LSTAT</th>\n",
       "      <th>MEDV</th>\n",
       "    </tr>\n",
       "  </thead>\n",
       "  <tbody>\n",
       "    <tr>\n",
       "      <th>0</th>\n",
       "      <td>0.00632</td>\n",
       "      <td>18.0</td>\n",
       "      <td>2.31</td>\n",
       "      <td>0.0</td>\n",
       "      <td>0.538</td>\n",
       "      <td>6.575</td>\n",
       "      <td>65.2</td>\n",
       "      <td>4.0900</td>\n",
       "      <td>1.0</td>\n",
       "      <td>296.0</td>\n",
       "      <td>15.3</td>\n",
       "      <td>396.90</td>\n",
       "      <td>4.98</td>\n",
       "      <td>24.0</td>\n",
       "    </tr>\n",
       "    <tr>\n",
       "      <th>1</th>\n",
       "      <td>0.02731</td>\n",
       "      <td>0.0</td>\n",
       "      <td>7.07</td>\n",
       "      <td>0.0</td>\n",
       "      <td>0.469</td>\n",
       "      <td>6.421</td>\n",
       "      <td>78.9</td>\n",
       "      <td>4.9671</td>\n",
       "      <td>2.0</td>\n",
       "      <td>242.0</td>\n",
       "      <td>17.8</td>\n",
       "      <td>396.90</td>\n",
       "      <td>9.14</td>\n",
       "      <td>21.6</td>\n",
       "    </tr>\n",
       "    <tr>\n",
       "      <th>2</th>\n",
       "      <td>0.02729</td>\n",
       "      <td>0.0</td>\n",
       "      <td>7.07</td>\n",
       "      <td>0.0</td>\n",
       "      <td>0.469</td>\n",
       "      <td>7.185</td>\n",
       "      <td>61.1</td>\n",
       "      <td>4.9671</td>\n",
       "      <td>2.0</td>\n",
       "      <td>242.0</td>\n",
       "      <td>17.8</td>\n",
       "      <td>392.83</td>\n",
       "      <td>4.03</td>\n",
       "      <td>34.7</td>\n",
       "    </tr>\n",
       "    <tr>\n",
       "      <th>3</th>\n",
       "      <td>0.03237</td>\n",
       "      <td>0.0</td>\n",
       "      <td>2.18</td>\n",
       "      <td>0.0</td>\n",
       "      <td>0.458</td>\n",
       "      <td>6.998</td>\n",
       "      <td>45.8</td>\n",
       "      <td>6.0622</td>\n",
       "      <td>3.0</td>\n",
       "      <td>222.0</td>\n",
       "      <td>18.7</td>\n",
       "      <td>394.63</td>\n",
       "      <td>2.94</td>\n",
       "      <td>33.4</td>\n",
       "    </tr>\n",
       "    <tr>\n",
       "      <th>4</th>\n",
       "      <td>0.06905</td>\n",
       "      <td>0.0</td>\n",
       "      <td>2.18</td>\n",
       "      <td>0.0</td>\n",
       "      <td>0.458</td>\n",
       "      <td>7.147</td>\n",
       "      <td>54.2</td>\n",
       "      <td>6.0622</td>\n",
       "      <td>3.0</td>\n",
       "      <td>222.0</td>\n",
       "      <td>18.7</td>\n",
       "      <td>396.90</td>\n",
       "      <td>5.33</td>\n",
       "      <td>36.2</td>\n",
       "    </tr>\n",
       "    <tr>\n",
       "      <th>...</th>\n",
       "      <td>...</td>\n",
       "      <td>...</td>\n",
       "      <td>...</td>\n",
       "      <td>...</td>\n",
       "      <td>...</td>\n",
       "      <td>...</td>\n",
       "      <td>...</td>\n",
       "      <td>...</td>\n",
       "      <td>...</td>\n",
       "      <td>...</td>\n",
       "      <td>...</td>\n",
       "      <td>...</td>\n",
       "      <td>...</td>\n",
       "      <td>...</td>\n",
       "    </tr>\n",
       "    <tr>\n",
       "      <th>501</th>\n",
       "      <td>0.06263</td>\n",
       "      <td>0.0</td>\n",
       "      <td>11.93</td>\n",
       "      <td>0.0</td>\n",
       "      <td>0.573</td>\n",
       "      <td>6.593</td>\n",
       "      <td>69.1</td>\n",
       "      <td>2.4786</td>\n",
       "      <td>1.0</td>\n",
       "      <td>273.0</td>\n",
       "      <td>21.0</td>\n",
       "      <td>391.99</td>\n",
       "      <td>9.67</td>\n",
       "      <td>22.4</td>\n",
       "    </tr>\n",
       "    <tr>\n",
       "      <th>502</th>\n",
       "      <td>0.04527</td>\n",
       "      <td>0.0</td>\n",
       "      <td>11.93</td>\n",
       "      <td>0.0</td>\n",
       "      <td>0.573</td>\n",
       "      <td>6.120</td>\n",
       "      <td>76.7</td>\n",
       "      <td>2.2875</td>\n",
       "      <td>1.0</td>\n",
       "      <td>273.0</td>\n",
       "      <td>21.0</td>\n",
       "      <td>396.90</td>\n",
       "      <td>9.08</td>\n",
       "      <td>20.6</td>\n",
       "    </tr>\n",
       "    <tr>\n",
       "      <th>503</th>\n",
       "      <td>0.06076</td>\n",
       "      <td>0.0</td>\n",
       "      <td>11.93</td>\n",
       "      <td>0.0</td>\n",
       "      <td>0.573</td>\n",
       "      <td>6.976</td>\n",
       "      <td>91.0</td>\n",
       "      <td>2.1675</td>\n",
       "      <td>1.0</td>\n",
       "      <td>273.0</td>\n",
       "      <td>21.0</td>\n",
       "      <td>396.90</td>\n",
       "      <td>5.64</td>\n",
       "      <td>23.9</td>\n",
       "    </tr>\n",
       "    <tr>\n",
       "      <th>504</th>\n",
       "      <td>0.10959</td>\n",
       "      <td>0.0</td>\n",
       "      <td>11.93</td>\n",
       "      <td>0.0</td>\n",
       "      <td>0.573</td>\n",
       "      <td>6.794</td>\n",
       "      <td>89.3</td>\n",
       "      <td>2.3889</td>\n",
       "      <td>1.0</td>\n",
       "      <td>273.0</td>\n",
       "      <td>21.0</td>\n",
       "      <td>393.45</td>\n",
       "      <td>6.48</td>\n",
       "      <td>22.0</td>\n",
       "    </tr>\n",
       "    <tr>\n",
       "      <th>505</th>\n",
       "      <td>0.04741</td>\n",
       "      <td>0.0</td>\n",
       "      <td>11.93</td>\n",
       "      <td>0.0</td>\n",
       "      <td>0.573</td>\n",
       "      <td>6.030</td>\n",
       "      <td>80.8</td>\n",
       "      <td>2.5050</td>\n",
       "      <td>1.0</td>\n",
       "      <td>273.0</td>\n",
       "      <td>21.0</td>\n",
       "      <td>396.90</td>\n",
       "      <td>7.88</td>\n",
       "      <td>11.9</td>\n",
       "    </tr>\n",
       "  </tbody>\n",
       "</table>\n",
       "<p>506 rows × 14 columns</p>\n",
       "</div>"
      ],
      "text/plain": [
       "        CRIM    ZN  INDUS  CHAS    NOX     RM   AGE     DIS  RAD    TAX  \\\n",
       "0    0.00632  18.0   2.31   0.0  0.538  6.575  65.2  4.0900  1.0  296.0   \n",
       "1    0.02731   0.0   7.07   0.0  0.469  6.421  78.9  4.9671  2.0  242.0   \n",
       "2    0.02729   0.0   7.07   0.0  0.469  7.185  61.1  4.9671  2.0  242.0   \n",
       "3    0.03237   0.0   2.18   0.0  0.458  6.998  45.8  6.0622  3.0  222.0   \n",
       "4    0.06905   0.0   2.18   0.0  0.458  7.147  54.2  6.0622  3.0  222.0   \n",
       "..       ...   ...    ...   ...    ...    ...   ...     ...  ...    ...   \n",
       "501  0.06263   0.0  11.93   0.0  0.573  6.593  69.1  2.4786  1.0  273.0   \n",
       "502  0.04527   0.0  11.93   0.0  0.573  6.120  76.7  2.2875  1.0  273.0   \n",
       "503  0.06076   0.0  11.93   0.0  0.573  6.976  91.0  2.1675  1.0  273.0   \n",
       "504  0.10959   0.0  11.93   0.0  0.573  6.794  89.3  2.3889  1.0  273.0   \n",
       "505  0.04741   0.0  11.93   0.0  0.573  6.030  80.8  2.5050  1.0  273.0   \n",
       "\n",
       "     PTRATIO       B  LSTAT  MEDV  \n",
       "0       15.3  396.90   4.98  24.0  \n",
       "1       17.8  396.90   9.14  21.6  \n",
       "2       17.8  392.83   4.03  34.7  \n",
       "3       18.7  394.63   2.94  33.4  \n",
       "4       18.7  396.90   5.33  36.2  \n",
       "..       ...     ...    ...   ...  \n",
       "501     21.0  391.99   9.67  22.4  \n",
       "502     21.0  396.90   9.08  20.6  \n",
       "503     21.0  396.90   5.64  23.9  \n",
       "504     21.0  393.45   6.48  22.0  \n",
       "505     21.0  396.90   7.88  11.9  \n",
       "\n",
       "[506 rows x 14 columns]"
      ]
     },
     "execution_count": 51,
     "metadata": {},
     "output_type": "execute_result"
    }
   ],
   "source": [
    "data = pd.DataFrame(boston.data,columns=boston.feature_names)\n",
    "data = pd.concat([data,pd.Series(boston.target,name='MEDV')],axis=1)\n",
    "data"
   ]
  },
  {
   "cell_type": "code",
   "execution_count": 6,
   "metadata": {},
   "outputs": [],
   "source": [
    "x=data.drop(columns=\"MEDV\")\n",
    "y=data[[\"MEDV\"]]"
   ]
  },
  {
   "cell_type": "code",
   "execution_count": 4,
   "metadata": {},
   "outputs": [],
   "source": [
    "from sklearn.model_selection import train_test_split"
   ]
  },
  {
   "cell_type": "code",
   "execution_count": 17,
   "metadata": {},
   "outputs": [],
   "source": [
    "x_train, x_test, y_train, y_test = train_test_split(x,y,test_size=0.20,random_state=42,shuffle=True)"
   ]
  },
  {
   "cell_type": "code",
   "execution_count": 18,
   "metadata": {},
   "outputs": [],
   "source": [
    "y_test=y_test.MEDV.ravel()\n",
    "y_train=y_train.MEDV.ravel()"
   ]
  },
  {
   "cell_type": "code",
   "execution_count": 19,
   "metadata": {},
   "outputs": [],
   "source": [
    "from sklearn.ensemble import GradientBoostingRegressor"
   ]
  },
  {
   "cell_type": "code",
   "execution_count": 20,
   "metadata": {},
   "outputs": [],
   "source": [
    "from sklearn.model_selection import GridSearchCV"
   ]
  },
  {
   "cell_type": "code",
   "execution_count": 23,
   "metadata": {},
   "outputs": [],
   "source": [
    "grid_search=GridSearchCV(estimator=GradientBoostingRegressor(),\n",
    "             param_grid={'loss':('ls', 'lad', 'huber', 'quantile'),\n",
    "                               'learning_rate': [0.1,0.2,0.3,1],\n",
    "                               'n_estimators':[50,60,100,150],\n",
    "                               'min_samples_split':[2,4,6,8],\n",
    "                               'max_depth':[2,4,6,3]},\n",
    "                              cv=3)"
   ]
  },
  {
   "cell_type": "code",
   "execution_count": 24,
   "metadata": {},
   "outputs": [],
   "source": [
    "grid_search=grid_search.fit(x_train,y_train)"
   ]
  },
  {
   "cell_type": "code",
   "execution_count": 25,
   "metadata": {},
   "outputs": [
    {
     "data": {
      "text/plain": [
       "{'learning_rate': 0.1,\n",
       " 'loss': 'lad',\n",
       " 'max_depth': 6,\n",
       " 'min_samples_split': 8,\n",
       " 'n_estimators': 150}"
      ]
     },
     "execution_count": 25,
     "metadata": {},
     "output_type": "execute_result"
    }
   ],
   "source": [
    "grid_search.best_params_"
   ]
  },
  {
   "cell_type": "code",
   "execution_count": 28,
   "metadata": {},
   "outputs": [],
   "source": [
    "model1=GradientBoostingRegressor(learning_rate=0.1,loss='lad',max_depth= 6,min_samples_split=8, n_estimators =150)"
   ]
  },
  {
   "cell_type": "code",
   "execution_count": 30,
   "metadata": {},
   "outputs": [],
   "source": [
    "model1=model1.fit(x_train,y_train)"
   ]
  },
  {
   "cell_type": "code",
   "execution_count": 31,
   "metadata": {},
   "outputs": [],
   "source": [
    "train_predict=model1.predict(x_train)"
   ]
  },
  {
   "cell_type": "code",
   "execution_count": 32,
   "metadata": {},
   "outputs": [],
   "source": [
    "from sklearn.metrics import mean_squared_error, r2_score"
   ]
  },
  {
   "cell_type": "code",
   "execution_count": 33,
   "metadata": {},
   "outputs": [
    {
     "data": {
      "text/plain": [
       "0.968743463916411"
      ]
     },
     "execution_count": 33,
     "metadata": {},
     "output_type": "execute_result"
    }
   ],
   "source": [
    "r2_score(y_train,train_predict)"
   ]
  },
  {
   "cell_type": "code",
   "execution_count": 34,
   "metadata": {},
   "outputs": [],
   "source": [
    "test_predict=model1.predict(x_test)"
   ]
  },
  {
   "cell_type": "code",
   "execution_count": 36,
   "metadata": {},
   "outputs": [
    {
     "data": {
      "text/plain": [
       "0.8509455010261011"
      ]
     },
     "execution_count": 36,
     "metadata": {},
     "output_type": "execute_result"
    }
   ],
   "source": [
    "r2_score(y_test,test_predict)"
   ]
  },
  {
   "cell_type": "code",
   "execution_count": 37,
   "metadata": {},
   "outputs": [],
   "source": [
    "from sklearn.model_selection import cross_val_score"
   ]
  },
  {
   "cell_type": "code",
   "execution_count": 53,
   "metadata": {},
   "outputs": [
    {
     "data": {
      "text/plain": [
       "0.8659722074163739"
      ]
     },
     "execution_count": 53,
     "metadata": {},
     "output_type": "execute_result"
    }
   ],
   "source": [
    "score=cross_val_score(model1,x_train,y_train,cv=11)\n",
    "score.mean()"
   ]
  },
  {
   "cell_type": "code",
   "execution_count": 49,
   "metadata": {},
   "outputs": [
    {
     "data": {
      "text/plain": [
       "0.7634532157075058"
      ]
     },
     "execution_count": 49,
     "metadata": {},
     "output_type": "execute_result"
    }
   ],
   "source": [
    "score1=cross_val_score(model1,x_test,y_test,cv=11)\n",
    "score1.mean()"
   ]
  },
  {
   "cell_type": "code",
   "execution_count": 48,
   "metadata": {},
   "outputs": [],
   "source": [
    "from sklearn.model_selection import cross_val_predict"
   ]
  },
  {
   "cell_type": "code",
   "execution_count": 50,
   "metadata": {},
   "outputs": [
    {
     "data": {
      "text/plain": [
       "array([13.4031783 , 21.2283838 , 19.85869973, 11.89102849, 20.09240266,\n",
       "       25.78068331, 20.35254231, 24.25027157, 10.35694682, 14.84915482,\n",
       "       22.05658223, 28.34175299, 31.52981101, 14.73809353, 44.16816747,\n",
       "       15.19889306, 20.22430921, 23.75784861, 19.10109569, 24.43400858,\n",
       "        4.5243013 , 20.92547365, 23.36924218, 20.36386557, 22.63665195,\n",
       "       40.28381093, 14.23085481, 47.06034496, 16.45060175, 22.214494  ,\n",
       "       19.85722688, 17.73542072, 13.51088483, 19.76344259, 20.30050622,\n",
       "       30.52134475, 26.68805361, 16.21682085, 18.27987973, 24.65767983,\n",
       "       20.36850002, 18.57865623,  7.48798161, 21.13462395, 17.25363456,\n",
       "       14.46765461, 15.44503515, 39.92452126, 13.33694357, 17.08522529,\n",
       "       25.49407157, 20.89382802, 21.28950355, 20.64512272, 14.70726564,\n",
       "       23.72521693, 35.89996419,  9.32866754, 25.48417248, 19.48412436,\n",
       "       20.92449728, 22.81232585, 22.68231085, 19.84311712, 45.78302715,\n",
       "       16.9438824 , 16.6014988 , 16.03967794, 19.93278946, 20.67419768,\n",
       "       22.29141165, 40.38238828, 20.63737322, 17.75395632, 21.17236586,\n",
       "       27.01853391, 38.35382002, 23.0005885 , 13.98371773, 13.38947111,\n",
       "       11.30389868, 16.3057737 , 32.00425966, 25.86474921, 12.81888777,\n",
       "       11.09938631, 41.59210162, 20.22631572, 20.34271538, 20.75065604,\n",
       "       19.51316536, 14.47507713,  7.92108179, 29.57270887, 26.22247436,\n",
       "       18.3861562 , 14.96508262, 14.03461136, 22.4560343 , 20.82067746,\n",
       "       24.87610091, 34.76370243, 23.01250426, 22.57188034, 22.56126794,\n",
       "       51.48743968, 29.31240143, 35.19551564, 24.4910109 , 26.50964719,\n",
       "       14.60866132, 36.61158122, 21.06442459, 29.36087106, 22.56550204,\n",
       "       20.62659901, 21.192896  , 10.76899108, 41.39779862, 42.64465572,\n",
       "       35.98307847,  8.03007169, 17.15277596, 21.95981033, 37.51590233,\n",
       "       16.7288079 , 34.24980823, 20.60882044, 23.45584865,  9.08470897,\n",
       "       20.51648113, 22.8099592 , 26.58041313, 23.0996934 , 20.26490892,\n",
       "       37.27630046, 25.65847655, 33.42388198, 23.64624523, 19.65168414,\n",
       "       24.07045046, 12.589799  , 22.58102467, 21.58630606, 18.19359219,\n",
       "        7.93165995, 20.78884264, 25.6304778 , 21.62259733, 19.65168893,\n",
       "       20.87795962, 12.75295642, 29.84608648, 25.96609278, 30.70391219,\n",
       "       14.74494151, 16.73989756, 14.21826688, 12.86350482, 10.67964387,\n",
       "       23.1030867 , 16.21527571, 13.18221376, 24.51082367, 12.75410351,\n",
       "       25.15628097, 34.03990614, 40.83655321, 29.05288264, 18.71749393,\n",
       "       28.67785315, 44.62641478, 20.84683011, 21.15209199, 24.62753127,\n",
       "       19.96327494, 22.60953265, 12.59830633, 19.63526446, 19.11913912,\n",
       "       25.27867228, 25.02111938, 20.0153494 , 23.26939233, 16.48638701,\n",
       "       14.71883778, 34.82541206, 18.71890322, 18.37488426, 20.9822851 ,\n",
       "       21.70297669, 19.86359031, 21.65522931, 46.26766857,  9.3738087 ,\n",
       "       18.95875392, 37.02312006, 21.52094249, 22.8192553 , 22.32270972,\n",
       "       22.20721674, 13.28003332, 44.16915791, 23.40538082, 21.55896566,\n",
       "       16.72080609, 30.45073768, 35.66395768, 44.93890379, 18.63970867,\n",
       "       22.78484015, 21.35975366, 45.06058894, 13.45773543, 20.43937921,\n",
       "       16.04963578, 23.7166121 ,  9.48544651, 20.17066167, 12.58505741,\n",
       "       14.74760025, 16.30152704, 18.3288361 , 22.34181491, 19.21593922,\n",
       "       23.4980535 , 42.74585321, 26.38012115, 20.436296  , 41.54522044,\n",
       "        8.3185845 , 24.9416784 , 22.24993581, 21.0675053 , 19.25209884,\n",
       "       20.68650398, 16.12378674, 10.81679052, 26.40307716, 16.2579794 ,\n",
       "       25.40069077, 22.29540212, 24.75529822, 11.5061425 , 11.08168619,\n",
       "       28.26733663, 30.24611145,  9.78617941, 15.20354271, 22.71615485,\n",
       "       42.27060856, 22.11905192, 10.3913675 , 33.67657123, 37.30605257,\n",
       "       16.82032797, 22.42638161, 44.64674069, 16.63811456, 23.85019307,\n",
       "       13.99569376, 20.44054563, 39.51844595, 27.56097501, 22.38448166,\n",
       "       19.06653967, 19.56483306, 13.73729714, 44.85977643, 20.70402233,\n",
       "       37.44165112, 15.10579415, 15.17745494, 15.26954791, 21.64782425,\n",
       "       34.52448048, 23.49151824, 48.69405029, 11.62129374, 14.15271933,\n",
       "       23.21479177, 17.75666774, 17.57235967, 25.91655917, 14.4495695 ,\n",
       "       22.77273725, 19.01772405, 30.67318141, 29.58536006, 20.20239987,\n",
       "       15.13797535, 32.7009325 , 12.95660329, 20.92029068, 28.71256357,\n",
       "       21.77995106, 32.84959413, 11.09450888, 25.55561482, 20.05863474,\n",
       "       24.71121495, 19.69591123, 20.56686657, 26.72945631, 20.73888073,\n",
       "       27.59199563, 21.05479178, 22.2775426 , 29.16228187, 23.98361084,\n",
       "       21.12786085, 22.35854722, 48.4334009 , 23.26827727, 25.06438924,\n",
       "       11.08937734, 30.33588547, 20.71871073, 32.56544782, 18.40292911,\n",
       "       20.72269966, 11.09975973, 21.93324389, 15.63912619, 16.73270536,\n",
       "       18.53510632, 10.62294751, 28.54318683, 22.53348923, 13.44188062,\n",
       "       14.17543672, 28.34597277, 13.21711698, 19.13133278, 22.61355987,\n",
       "       19.67728729, 19.6915469 , 25.83981672, 19.87803   , 34.13778207,\n",
       "       20.63778475, 19.96722683, 20.37310545, 31.06178607,  9.12162663,\n",
       "       41.80297359, 50.57075216, 21.52036657, 22.00461467, 15.34133898,\n",
       "       35.78395817, 21.13131437, 22.57253311, 25.10627095, 19.67172565,\n",
       "       19.54325955, 20.4333209 , 19.78598394, 22.18629354, 10.13878696,\n",
       "       33.01360208, 17.83556756, 22.42514601, 27.67312314, 22.51176954,\n",
       "       22.33482444, 18.48969814, 32.70332663, 21.47266108, 32.57982906,\n",
       "       20.05366558, 23.516204  , 17.45625804, 24.60447062, 33.65542041,\n",
       "       15.45664121, 28.78633919,  9.17427241, 23.86869999, 11.24063657,\n",
       "       25.89806506, 47.2958578 , 32.25590219, 14.8163801 , 21.31485396,\n",
       "       19.37534705, 21.71181687, 32.34814969, 25.42061187, 22.25282039,\n",
       "       15.19666482, 21.91654742, 20.03321259, 13.94325668, 22.65196223,\n",
       "       20.3952436 , 13.79145453, 28.07049112, 21.21610157, 17.77756323,\n",
       "       20.31538562, 27.1946121 , 12.36327748, 18.34943625])"
      ]
     },
     "execution_count": 50,
     "metadata": {},
     "output_type": "execute_result"
    }
   ],
   "source": [
    "cross_val_predict(model1,x_train,y_train,cv=11)"
   ]
  },
  {
   "cell_type": "code",
   "execution_count": null,
   "metadata": {},
   "outputs": [],
   "source": []
  }
 ],
 "metadata": {
  "kernelspec": {
   "display_name": "Python 3",
   "language": "python",
   "name": "python3"
  },
  "language_info": {
   "codemirror_mode": {
    "name": "ipython",
    "version": 3
   },
   "file_extension": ".py",
   "mimetype": "text/x-python",
   "name": "python",
   "nbconvert_exporter": "python",
   "pygments_lexer": "ipython3",
   "version": "3.7.3"
  }
 },
 "nbformat": 4,
 "nbformat_minor": 2
}
